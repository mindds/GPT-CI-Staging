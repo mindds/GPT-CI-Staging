{
 "cells": [
  {
   "cell_type": "code",
   "execution_count": 1,
   "id": "9ca4aab9",
   "metadata": {},
   "outputs": [],
   "source": [
    "import pandas as pd"
   ]
  },
  {
   "cell_type": "code",
   "execution_count": 3,
   "id": "d6e8a78c",
   "metadata": {},
   "outputs": [],
   "source": [
    "df_table = pd.read_csv('../Results - sydronmic dx/Files/patient_demo_syndromic_dx.csv')"
   ]
  },
  {
   "cell_type": "code",
   "execution_count": null,
   "id": "c598f343",
   "metadata": {},
   "outputs": [],
   "source": [
    "# Summary statistics calculation\n",
    "reference_date = pd.to_datetime('2016-01-01')\n",
    "\n",
    "# Calculate the age as of January 1, 2017\n",
    "df_table['AgeInJan2016'] = (reference_date - pd.to_datetime(df_table['BirthDTS'])).apply(lambda x: x.days // 365)\n",
    "\n",
    "some_college_categories = ['Some College', \"Associate's, vocational, or technical degree\"]\n",
    "\n",
    "# Calculate overall statistics\n",
    "total_summary = {\n",
    "    'Age': f\"{df_table['AgeInJan2016'].mean():.1f} ± {df_table['AgeInJan2016'].std():.1f}\",\n",
    "    'Female': f\"{sum(df_table['SexDSC'] == 'Female')} ({sum(df_table['SexDSC'] == 'Female')/len(df_table) * 100:.1f}%)\",\n",
    "    'Male': f\"{sum(df_table['SexDSC'] == 'Male')} ({sum(df_table['SexDSC'] == 'Male')/len(df_table) * 100:.1f}%)\",\n",
    "    'Asian': f\"{sum(df_table['PatientRaceDSC'] == 'Asian')} ({sum(df_table['PatientRaceDSC'] == 'Asian')/len(df_table) * 100:.1f}%)\",\n",
    "    'Black': f\"{sum(df_table['PatientRaceDSC'] == 'Black or African American')} ({sum(df_table['PatientRaceDSC'] == 'Black or African American')/len(df_table) * 100:.1f}%)\",\n",
    "    'Other': f\"{sum(df_table['PatientRaceDSC'] == 'Other')} ({sum(df_table['PatientRaceDSC'] == 'Other')/len(df_table) * 100:.1f}%)\",\n",
    "    'White': f\"{sum(df_table['PatientRaceDSC'] == 'White')} ({sum(df_table['PatientRaceDSC'] == 'White')/len(df_table) * 100:.1f}%)\",\n",
    "    'Unavailable': f\"{sum(df_table['PatientRaceDSC'] == 'Unavailable')} ({sum(df_table['PatientRaceDSC'] == 'Unavailable')/len(df_table) * 100:.1f}%)\",\n",
    "    'Hispanic': f\"{sum(df_table['EthnicGroupDSC'] == 'Hispanic')} ({sum(df_table['EthnicGroupDSC'] == 'Hispanic')/len(df_table) * 100:.1f}%)\",\n",
    "    'NonHispanic': f\"{sum(df_table['EthnicGroupDSC'] == 'Not Hispanic')} ({sum(df_table['EthnicGroupDSC'] == 'Not Hispanic')/len(df_table) * 100:.1f}%)\",\n",
    "    'UnavailableEth': f\"{sum(df_table['EthnicGroupDSC'].isin(['Unavailable', 'Prefer not to say/Decline']))} ({sum(df_table['EthnicGroupDSC'].isin(['Unavailable', 'Prefer not to say/Decline']))/len(df_table) * 100:.1f}%)\",\n",
    "    'HighSchool': f\"{sum(df_table['EducationLevelDSC'].isin(['Graduated - High School', 'Some High School', '8th Grade or Less']))} ({sum(df_table['EducationLevelDSC'].isin(['Graduated - High School', 'Some High School', '8th Grade or Less']))/len(df_table) * 100:.1f}%)\",\n",
    "    'SomeCollege': f\"{sum(df_table['EducationLevelDSC'].isin(some_college_categories))} ({sum(df_table['EducationLevelDSC'].isin(some_college_categories))/len(df_table) * 100:.1f}%)\",\n",
    "    'College': f\"{sum(df_table['EducationLevelDSC'].isin(['Graduated - College']))} ({sum(df_table['EducationLevelDSC'].isin(['Graduated - College']))/len(df_table) * 100:.1f}%)\",\n",
    "    'Grad': f\"{sum(df_table['EducationLevelDSC'].isin(['Graduated - Grad School']))} ({sum(df_table['EducationLevelDSC'].isin(['Graduated - Grad School']))/len(df_table) * 100:.1f}%)\",\n",
    "\n",
    "    'UnavailableEdu': f\"{sum(df_table['EducationLevelDSC'].isin(['Declined', 'Other', 'Unavailable']))} ({sum(df_table['EducationLevelDSC'].isin(['Declined', 'Other', 'Unavailable']))/len(df_table) * 100:.1f}%)\",\n",
    "\n",
    "}\n",
    "\n",
    "total_summary_df = pd.DataFrame(total_summary, index=['Total']).T"
   ]
  },
  {
   "cell_type": "code",
   "execution_count": null,
   "id": "9834762b",
   "metadata": {},
   "outputs": [],
   "source": [
    "\n",
    "\n",
    "# Define a function to calculate stats per group\n",
    "def calculate_group_stats(group):\n",
    "    return pd.Series({\n",
    "        'Age': f\"{group['AgeInJan2016'].mean():.1f} ± {group['AgeInJan2016'].std():.1f}\",\n",
    "        'Female': f\"{(group['SexDSC'] == 'Female').sum()} ({(group['SexDSC'] == 'Female').mean() * 100:.1f}%)\",\n",
    "        'Male': f\"{(group['SexDSC'] == 'Male').sum()} ({(group['SexDSC'] == 'Male').mean() * 100:.1f}%)\",\n",
    "        'Asian': f\"{(group['PatientRaceDSC'] == 'Asian').sum()} ({(group['PatientRaceDSC'] == 'Asian').mean() * 100:.1f}%)\",\n",
    "        'Black': f\"{(group['PatientRaceDSC'] == 'Black or African American').sum()} ({(group['PatientRaceDSC'] == 'Black or African American').mean() * 100:.1f}%)\",\n",
    "        'Other': f\"{(group['PatientRaceDSC'] == 'Other').sum()} ({(group['PatientRaceDSC'] == 'Other').mean() * 100:.1f}%)\",\n",
    "        'White': f\"{(group['PatientRaceDSC'] == 'White').sum()} ({(group['PatientRaceDSC'] == 'White').mean() * 100:.1f}%)\",\n",
    "        'Unavailable': f\"{(group['PatientRaceDSC'] == 'Unavailable').sum()} ({(group['PatientRaceDSC'] == 'Unavailable').mean() * 100:.1f}%)\",\n",
    "        'Hispanic': f\"{(group['EthnicGroupDSC'] == 'Hispanic').sum()} ({(group['EthnicGroupDSC'] == 'Hispanic').mean() * 100:.1f}%)\",\n",
    "        'NonHispanic': f\"{(group['EthnicGroupDSC'] == 'Not Hispanic').sum()} ({(group['EthnicGroupDSC'] == 'Not Hispanic').mean() * 100:.1f}%)\",\n",
    "        'UnavailableEth': f\"{group['EthnicGroupDSC'].isin(['Unavailable', 'Prefer not to say/Decline']).sum()} ({group['EthnicGroupDSC'].isin(['Unavailable', 'Prefer not to say/Decline']).mean() * 100:.1f}%)\",\n",
    "        'HighSchool': f\"{group['EducationLevelDSC'].isin(high_school_categories).sum()} ({group['EducationLevelDSC'].isin(high_school_categories).mean() * 100:.1f}%)\",\n",
    "        'SomeCollege': f\"{group['EducationLevelDSC'].isin(some_college_categories).sum()} ({group['EducationLevelDSC'].isin(some_college_categories).mean() * 100:.1f}%)\",\n",
    "        'College': f\"{group['EducationLevelDSC'].isin(college_categories).sum()} ({group['EducationLevelDSC'].isin(college_categories).mean() * 100:.1f}%)\",\n",
    "        'Grad': f\"{group['EducationLevelDSC'].isin(grad_school_categories).sum()} ({group['EducationLevelDSC'].isin(grad_school_categories).mean() * 100:.1f}%)\",\n",
    "        'UnavailableEdu': f\"{group['EducationLevelDSC'].isin(unavailable_edu).sum()} ({group['EducationLevelDSC'].isin(unavailable_edu).mean() * 100:.1f}%)\"\n",
    "    })\n",
    "\n",
    "# Group by actual_category and apply the function\n",
    "group_summary_df = df_table.groupby('actual_category').apply(calculate_group_stats).T\n",
    "\n",
    "# Add the previously created total summary\n",
    "final_summary_df = pd.concat([total_summary_df, group_summary_df], axis=1)"
   ]
  },
  {
   "cell_type": "code",
   "execution_count": 12,
   "id": "36efcb89",
   "metadata": {},
   "outputs": [],
   "source": [
    "final_summary_df.to_csv('../Results - sydronmic dx/Files/table-summary-5categories.csv')"
   ]
  },
  {
   "cell_type": "code",
   "execution_count": null,
   "id": "d93fd164",
   "metadata": {},
   "outputs": [],
   "source": []
  }
 ],
 "metadata": {
  "kernelspec": {
   "display_name": "devenv",
   "language": "python",
   "name": "python3"
  },
  "language_info": {
   "codemirror_mode": {
    "name": "ipython",
    "version": 3
   },
   "file_extension": ".py",
   "mimetype": "text/x-python",
   "name": "python",
   "nbconvert_exporter": "python",
   "pygments_lexer": "ipython3",
   "version": "3.12.3"
  }
 },
 "nbformat": 4,
 "nbformat_minor": 5
}
