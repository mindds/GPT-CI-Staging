{
 "cells": [
  {
   "cell_type": "code",
   "execution_count": 1,
   "metadata": {},
   "outputs": [],
   "source": [
    "import pandas as pd\n",
    "import numpy as np\n",
    "import os\n",
    "import re\n"
   ]
  },
  {
   "cell_type": "code",
   "execution_count": null,
   "metadata": {},
   "outputs": [],
   "source": [
    "# Specify the path to your text file\n",
    "file_path = '../../../EDW Queries/CDR-notes-nlinque/PatientIDs.txt'\n",
    "\n",
    "# Read the file into a DataFrame\n",
    "id_df = pd.read_csv(file_path, sep=' ', header=0)\n",
    "id_df['MRN'] = id_df['MRN'].astype(str)\n",
    "id_df['DOB'] = pd.to_datetime(id_df['DOB'])\n",
    "id_df['VisitDate'] = pd.to_datetime(id_df['VisitDate'])\n",
    "# Display the DataFrame to check\n",
    "id_df\n"
   ]
  },
  {
   "cell_type": "code",
   "execution_count": null,
   "metadata": {},
   "outputs": [],
   "source": [
    "visits_df = pd.read_csv(\"../../../../../NLP/Samad/MEM_data/df_files/2022_02_16_MDU_Latest_Visits.csv\")\n",
    "visits_df['CompleteMRN'] = visits_df['MRN'].str.split('-')\n",
    "visits_df['MRN'] = visits_df['CompleteMRN'].str.join('')\n",
    "visits_df['DOB'] = pd.to_datetime(visits_df['DOB'])\n",
    "visits_df['VisitDate'] = pd.to_datetime(visits_df['VisitDate'])\n",
    "visits_df"
   ]
  },
  {
   "cell_type": "code",
   "execution_count": null,
   "metadata": {},
   "outputs": [],
   "source": [
    "visits_df = id_df.merge(visits_df, how=\"left\", on=[\"MRN\", \"DOB\", \"VisitDate\"])\n",
    "visits_df"
   ]
  },
  {
   "cell_type": "code",
   "execution_count": null,
   "metadata": {},
   "outputs": [],
   "source": [
    "print(visits_df['MRN'].nunique())"
   ]
  },
  {
   "cell_type": "markdown",
   "metadata": {},
   "source": [
    "## Filtering Cases"
   ]
  },
  {
   "cell_type": "code",
   "execution_count": null,
   "metadata": {},
   "outputs": [],
   "source": [
    "notes_df = pd.read_csv(\"../../../EDW Queries/CDR-notes-nlinque/mdu_notes_formatted_aug14.csv\")\n",
    "notes_df['ContactDTS'] = pd.to_datetime(notes_df['ContactDTS'])\n",
    "notes_df"
   ]
  },
  {
   "cell_type": "code",
   "execution_count": 8,
   "metadata": {},
   "outputs": [],
   "source": [
    "substrings = [\"The note for this office visit has been dictated\", \"THIS NOTE IS IN PROCESS\"]\n",
    "pattern = '|'.join(substrings)\n",
    "notes_df = notes_df[~notes_df['NoteTXT'].str.contains(pattern)] \n"
   ]
  },
  {
   "cell_type": "code",
   "execution_count": null,
   "metadata": {},
   "outputs": [],
   "source": [
    "print(notes_df['PatientID'].nunique())\n",
    "print(visits_df.columns)"
   ]
  },
  {
   "cell_type": "code",
   "execution_count": null,
   "metadata": {},
   "outputs": [],
   "source": [
    "merged_df = pd.merge(notes_df, visits_df, on='PatientID', how='inner')\n",
    "\n",
    "# Calculate the absolute difference between ContactDTS and VisitDate\n",
    "merged_df['DateDiff'] = (merged_df['ContactDTS'] - merged_df['VisitDate']).abs()\n",
    "filtered_df = merged_df[merged_df['InpatientNoteTypeDSC'] == \"Progress Notes\"]\n",
    "filtered_df = filtered_df[filtered_df['EncounterTypeDSC'].isin([\"Appointment\", \"Office Visit\", \"Telemedicine\", \"Telemedicine - audio only\"])]\n",
    "filtered_df = filtered_df[filtered_df['ContactDTS'] == filtered_df['VisitDate']]\n",
    "# substrings = [\"dictated\", \"THIS NOTE IS IN PROCESS\"]\n",
    "# pattern = '|'.join(substrings)\n",
    "# filtered_df = filtered_df[~filtered_df['NoteTXT'].str.contains(pattern)] \n",
    "print(filtered_df['PatientID'].nunique())\n",
    "\n",
    "# Sort by PatientID and DateDiff to find the closest encounter\n",
    "# closest_encounters = filtered_df.loc[filtered_df.groupby('PatientID')['DateDiff'].idxmin()]\n",
    "# # closest_encounters = closest_encounters[closest_encounters['DateDiff']<14]\n",
    "# # closest_encounters\n",
    "# closest_encounters = closest_encounters[closest_encounters['DateDiff'] < pd.Timedelta(weeks=1)]\n",
    "# print(closest_encounters['PatientID'].nunique())\n",
    "\n",
    "# Drop the 'DateDiff' column if no longer needed\n",
    "# closest_encounters = closest_encounters.drop(columns=['DateDiff'])\n",
    "\n",
    "# closest_encounters.reset_index(inplace=True)\n",
    "# # The resulting DataFrame contains the closest ContactDTS to the VisitDate for each patient\n",
    "# closest_encounters"
   ]
  },
  {
   "cell_type": "code",
   "execution_count": null,
   "metadata": {},
   "outputs": [],
   "source": [
    "# check if any problematic notes\n",
    "filtered_df[filtered_df['NoteTXT'].str.contains(\"THIS NOTE IS IN PROCESS\")]\n",
    "filtered_df[filtered_df['NoteTXT'].str.contains(pattern)] "
   ]
  },
  {
   "cell_type": "code",
   "execution_count": null,
   "metadata": {},
   "outputs": [],
   "source": [
    "filtered_df['PatientID'].value_counts()"
   ]
  },
  {
   "cell_type": "code",
   "execution_count": null,
   "metadata": {},
   "outputs": [],
   "source": [
    "# Assume 'PatientID' is the column name for patient IDs\n",
    "patients_with_multiple_entries = filtered_df.groupby('PatientID').filter(lambda x: len(x) > 1)\n",
    "# Display the result\n",
    "patients_with_multiple_entries = patients_with_multiple_entries.drop_duplicates(subset=['PatientID'])\n",
    "patient_ids = patients_with_multiple_entries['PatientID'].tolist()\n",
    "patient_ids"
   ]
  },
  {
   "cell_type": "code",
   "execution_count": 17,
   "metadata": {},
   "outputs": [],
   "source": [
    "patients_duplicates = filtered_df[filtered_df['PatientID'].isin(patient_ids)]\n",
    "patients_duplicates.to_csv(\"/Users/yl509/Partners HealthCare Dropbox/Yu Leng/NLP/Yu Leng/GPT/cdr_patients_multi_notes.csv\", index=False)"
   ]
  },
  {
   "cell_type": "code",
   "execution_count": 25,
   "metadata": {},
   "outputs": [],
   "source": [
    "# Concatenate notes for each patient (and visit if necessary)\n",
    "concatenated_df = filtered_df.groupby(['PatientID', 'PatientEncounterID'])['NoteTXT'].agg(' '.join).reset_index()\n",
    "temp_df = filtered_df.copy()\n",
    "temp_df = temp_df.drop(columns=['NoteTXT'])\n",
    "concatenated_df = concatenated_df.merge(temp_df, on=['PatientID', 'PatientEncounterID'], how='left')\n",
    "concatenated_df = concatenated_df.drop_duplicates(subset=['PatientID', 'PatientEncounterID'])\n",
    "concatenated_df.reset_index(inplace=True)"
   ]
  },
  {
   "cell_type": "code",
   "execution_count": null,
   "metadata": {},
   "outputs": [],
   "source": [
    "concatenated_df['ContactDTS'].sort_values()"
   ]
  },
  {
   "cell_type": "code",
   "execution_count": null,
   "metadata": {},
   "outputs": [],
   "source": [
    "concatenated_df_id = concatenated_df.copy()\n",
    "concatenated_df_id = concatenated_df_id[['PatientID', 'ContactDTS', 'VisitDate', 'GlobalCDR']]\n",
    "concatenated_df_id.to_csv(\"../../../../GPT/cdr_id_strict_0827.csv\", index=False)"
   ]
  },
  {
   "cell_type": "code",
   "execution_count": null,
   "metadata": {},
   "outputs": [],
   "source": [
    "# closest_encounters['ContactDTS'].sort_values()"
   ]
  },
  {
   "cell_type": "markdown",
   "metadata": {},
   "source": [
    "## Cleaning Notes"
   ]
  },
  {
   "cell_type": "code",
   "execution_count": null,
   "metadata": {},
   "outputs": [],
   "source": [
    "def clean_text(text):\n",
    "    # Remove specific unwanted characters\n",
    "    text = text.replace('¬†', '')\n",
    "    text = text.replace('ý', '')\n",
    "    # Optionally, remove other common unwanted characters\n",
    "    text = text.replace('\\xa0', ' ')  # Replace non-breaking spaces with regular spaces\n",
    "    return text\n",
    "\n",
    "processed_df = concatenated_df.copy()\n",
    "# Apply the cleaning function to the entire column\n",
    "processed_df['NoteTXT'] = processed_df['NoteTXT'].apply(clean_text)\n",
    "\n",
    "# Display the DataFrame to verify the changes\n",
    "print(processed_df['NoteTXT'])"
   ]
  },
  {
   "cell_type": "code",
   "execution_count": null,
   "metadata": {},
   "outputs": [],
   "source": [
    "def remove_and_save_cdr_sentences(text):\n",
    "    # Regex pattern to identify sentences containing CDR information (case-insensitive)\n",
    "    pattern = r'([^.]*\\bCDR\\b[^.]*\\.)'\n",
    "    # Find all sentences that match the pattern\n",
    "    removed_text = re.findall(pattern, text, flags=re.IGNORECASE)\n",
    "    print(removed_text)\n",
    "    # Remove the matched sentences from the original text\n",
    "    cleaned_text = re.sub(pattern, '', text, flags=re.IGNORECASE).strip()\n",
    "    \n",
    "    # Join the removed sentences into a single string\n",
    "    removed_text_str = ' '.join(removed_text).strip()\n",
    "    return cleaned_text, removed_text_str\n",
    "\n",
    "# Apply the function to the NoteTXT column and create two new columns\n",
    "processed_df[['CleanedNoteTXT', 'RemovedCDRSentences']] = processed_df['NoteTXT'].apply(\n",
    "    lambda x: pd.Series(remove_and_save_cdr_sentences(x))\n",
    ")"
   ]
  },
  {
   "cell_type": "code",
   "execution_count": null,
   "metadata": {},
   "outputs": [],
   "source": [
    "processed_df"
   ]
  },
  {
   "cell_type": "code",
   "execution_count": null,
   "metadata": {},
   "outputs": [],
   "source": [
    "cdr_exists = processed_df['NoteTXT'].str.contains(r'\\bCDR\\b', case=False, regex=True)\n",
    "\n",
    "# Print rows where \"CDR\" still exists (if any)\n",
    "remaining_cdr_notes = processed_df[cdr_exists]\n",
    "print(\"Rows where 'CDR' is still present:\")\n",
    "print(remaining_cdr_notes)\n",
    "\n",
    "# Alternatively, count how many such rows exist\n",
    "num_cdr_present = cdr_exists.sum()\n",
    "print(f\"Number of rows where 'CDR' is still present: {num_cdr_present}\")\n"
   ]
  },
  {
   "cell_type": "code",
   "execution_count": null,
   "metadata": {},
   "outputs": [],
   "source": [
    "cdr_exists = processed_df['CleanedNoteTXT'].str.contains(r'\\bCDR\\b', case=False, regex=True)\n",
    "\n",
    "# Print rows where \"CDR\" still exists (if any)\n",
    "remaining_cdr_notes = processed_df[cdr_exists]\n",
    "print(\"Rows where 'CDR' is still present:\")\n",
    "print(remaining_cdr_notes)\n",
    "\n",
    "# Alternatively, count how many such rows exist\n",
    "num_cdr_present = cdr_exists.sum()\n",
    "print(f\"Number of rows where 'CDR' is still present: {num_cdr_present}\")"
   ]
  },
  {
   "cell_type": "code",
   "execution_count": null,
   "metadata": {},
   "outputs": [],
   "source": [
    "print(processed_df['NoteTXT'][3])\n"
   ]
  },
  {
   "cell_type": "code",
   "execution_count": null,
   "metadata": {},
   "outputs": [],
   "source": [
    "processed_df[[\"RemovedCDRSentences\", \"GlobalCDR\"]]"
   ]
  },
  {
   "cell_type": "code",
   "execution_count": null,
   "metadata": {},
   "outputs": [],
   "source": [
    "# processed_df.to_csv(\"/Users/yl509/Partners HealthCare Dropbox/Yu Leng/NLP/Yu Leng/GPT/cdr_preprocessed_strict_0827.csv\")\n",
    "processed_df.to_csv(\"../../../../GPT/cdr_preprocessed_strict_0829.csv\")"
   ]
  },
  {
   "cell_type": "code",
   "execution_count": 96,
   "metadata": {},
   "outputs": [],
   "source": [
    "# processed_df.to_csv(\"/Users/yl509/Partners HealthCare Dropbox/Yu Leng/NLP/Yu Leng/GPT/cdr_preprocessed.csv\")"
   ]
  },
  {
   "cell_type": "code",
   "execution_count": null,
   "metadata": {},
   "outputs": [],
   "source": [
    "processed_df = pd.read_csv(\"../../../../GPT/cdr_preprocessed.csv\")\n",
    "processed_df"
   ]
  },
  {
   "cell_type": "code",
   "execution_count": null,
   "metadata": {},
   "outputs": [],
   "source": [
    "processed_df['ContactDTS'].sort_values()"
   ]
  }
 ],
 "metadata": {
  "kernelspec": {
   "display_name": "Python 3",
   "language": "python",
   "name": "python3"
  },
  "language_info": {
   "codemirror_mode": {
    "name": "ipython",
    "version": 3
   },
   "file_extension": ".py",
   "mimetype": "text/x-python",
   "name": "python",
   "nbconvert_exporter": "python",
   "pygments_lexer": "ipython3",
   "version": "3.9.6"
  }
 },
 "nbformat": 4,
 "nbformat_minor": 2
}
